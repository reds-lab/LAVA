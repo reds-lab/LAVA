{
 "cells": [
  {
   "cell_type": "markdown",
   "id": "f611aeec",
   "metadata": {},
   "source": [
    "# LAVA Data Value\n",
    "## For Mislabeled Data Detection (STL10)"
   ]
  },
  {
   "cell_type": "code",
   "execution_count": 1,
   "id": "dcf3bcff",
   "metadata": {},
   "source": [
    "import lava"
   ],
   "outputs": []
  },
  {
   "cell_type": "code",
   "execution_count": 2,
   "id": "4e34f958",
   "metadata": {},
   "source": [
    "import torch\n",
    "import torchvision\n",
    "# print(torch.__version__)\n",
    "# print(torchvision.__version__)\n",
    "# print(torch.version.cuda)\n",
    "# print(torch.cuda.is_available())\n",
    "\n",
    "import torch.nn as nn\n",
    "import torch.nn.functional as F\n",
    "import torch.optim as optim\n",
    "import torchvision.models as models\n",
    "from torch.autograd import Variable\n",
    "\n",
    "import matplotlib.pyplot as plt\n",
    "from torch import tensor\n",
    "from torchvision import datasets, transforms\n",
    "import pandas as pd\n",
    "import numpy as n\n",
    "\n",
    "from torch.utils.data import Dataset, TensorDataset, DataLoader"
   ],
   "outputs": []
  },
  {
   "cell_type": "code",
   "execution_count": null,
   "id": "b4b3bded",
   "metadata": {
    "scrolled": true
   },
   "source": [
    "! nvidia-smi"
   ],
   "outputs": []
  },
  {
   "cell_type": "code",
   "execution_count": null,
   "id": "a54003f7",
   "metadata": {},
   "source": [
    "cuda_num = 0\n",
    "import torchvision\n",
    "print(torchvision.__version__)\n",
    "import torch\n",
    "print(torch.__version__)\n",
    "import os\n",
    "os.environ[\"CUDA_VISIBLE_DEVICES\"]=str(cuda_num)\n",
    "print(os.environ[\"CUDA_VISIBLE_DEVICES\"])\n",
    "torch.cuda.set_device(cuda_num)\n",
    "print(\"Cuda device: \", torch.cuda.current_device())\n",
    "print(\"cude devices: \", torch.cuda.device_count())\n",
    "device = torch.device('cuda:' + str(cuda_num) if torch.cuda.is_available() else 'cpu')"
   ],
   "outputs": []
  },
  {
   "cell_type": "markdown",
   "id": "defdeae8",
   "metadata": {},
   "source": [
    "### Set Parameters"
   ]
  },
  {
   "cell_type": "code",
   "execution_count": 5,
   "id": "23633651",
   "metadata": {},
   "source": [
    "training_size = 5000\n",
    "valid_size = 2000\n",
    "resize = 32\n",
    "portion = 0.3"
   ],
   "outputs": []
  },
  {
   "cell_type": "markdown",
   "id": "7e0b7fb1",
   "metadata": {},
   "source": [
    "### Loading Corrupted Data into DataLoaders\n",
    "### Train and Test Loaders with Indices of Corrupted Data"
   ]
  },
  {
   "cell_type": "code",
   "execution_count": 6,
   "id": "0f7319d3",
   "metadata": {
    "scrolled": true
   },
   "source": [
    "loaders, shuffle_ind = lava.load_data_corrupted(corrupt_type='shuffle', dataname='STL10', resize=resize,\n",
    "                                        training_size=training_size, test_size=valid_size, currupt_por=portion)"
   ],
   "outputs": []
  },
  {
   "cell_type": "markdown",
   "id": "f59b1c38",
   "metadata": {},
   "source": [
    "### Load Feature Extractor for a Given Dataset\n",
    "### Checkpoints provided and training files provided"
   ]
  },
  {
   "cell_type": "code",
   "execution_count": 7,
   "id": "58be73c8",
   "metadata": {},
   "source": [
    "feature_extractor = lava.load_pretrained_feature_extractor('preresnet18_test_stl10.pth', device)"
   ],
   "outputs": []
  },
  {
   "cell_type": "markdown",
   "id": "d345bcac",
   "metadata": {},
   "source": [
    "### Compute Dual Solution of Optimal Transport Problem"
   ]
  },
  {
   "cell_type": "code",
   "execution_count": 8,
   "id": "5abb7145",
   "metadata": {},
   "source": [
    "dual_sol, trained_with_flag = lava.compute_dual(feature_extractor, loaders['train'], loaders['test'], \n",
    "                                                training_size, shuffle_ind, resize=resize)"
   ],
   "outputs": []
  },
  {
   "cell_type": "markdown",
   "id": "3598f5b7",
   "metadata": {},
   "source": [
    "### Compute the Data Values from Calibrated Gradient\n",
    "### Visualize Detection Rate Based on LAVA"
   ]
  },
  {
   "cell_type": "code",
   "execution_count": 9,
   "id": "b8f745db",
   "metadata": {},
   "source": [
    "%matplotlib inline\n",
    "calibrated_gradient = lava.compute_values_and_visualize(dual_sol, trained_with_flag, training_size, portion)"
   ],
   "outputs": []
  },
  {
   "cell_type": "code",
   "execution_count": 10,
   "id": "a72963e8",
   "metadata": {},
   "source": [
    "calibrated_gradient"
   ],
   "outputs": []
  },
  {
   "cell_type": "code",
   "execution_count": null,
   "id": "5b4759d8",
   "metadata": {},
   "source": [],
   "outputs": []
  }
 ],
 "metadata": {
  "kernelspec": {
   "display_name": "otdd",
   "language": "python",
   "name": "otdd"
  },
  "language_info": {
   "codemirror_mode": {
    "name": "ipython",
    "version": 3
   },
   "file_extension": ".py",
   "mimetype": "text/x-python",
   "name": "python",
   "nbconvert_exporter": "python",
   "pygments_lexer": "ipython3",
   "version": "3.8.12"
  }
 },
 "nbformat": 4,
 "nbformat_minor": 5
}
